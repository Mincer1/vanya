{
 "cells": [
  {
   "cell_type": "code",
   "execution_count": 1,
   "id": "4031534f",
   "metadata": {},
   "outputs": [
    {
     "name": "stdout",
     "output_type": "stream",
     "text": [
      "Писюн\n"
     ]
    }
   ],
   "source": [
    "print(\"Писюн\")"
   ]
  },
  {
   "cell_type": "code",
   "execution_count": 6,
   "id": "1b529488",
   "metadata": {},
   "outputs": [],
   "source": [
    "kek = 5*88\n"
   ]
  },
  {
   "cell_type": "code",
   "execution_count": 7,
   "id": "79a06363",
   "metadata": {},
   "outputs": [
    {
     "data": {
      "text/plain": [
       "440"
      ]
     },
     "execution_count": 7,
     "metadata": {},
     "output_type": "execute_result"
    }
   ],
   "source": [
    "kek"
   ]
  }
 ],
 "metadata": {
  "kernelspec": {
   "display_name": "Python 3",
   "language": "python",
   "name": "python3"
  },
  "language_info": {
   "codemirror_mode": {
    "name": "ipython",
    "version": 3
   },
   "file_extension": ".py",
   "mimetype": "text/x-python",
   "name": "python",
   "nbconvert_exporter": "python",
   "pygments_lexer": "ipython3",
   "version": "3.13.5"
  }
 },
 "nbformat": 4,
 "nbformat_minor": 5
}
